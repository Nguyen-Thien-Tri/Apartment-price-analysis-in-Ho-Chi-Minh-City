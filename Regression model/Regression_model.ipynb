{
  "cells": [
    {
      "cell_type": "code",
      "execution_count": 1,
      "metadata": {
        "id": "lCZbP2eZdg_7"
      },
      "outputs": [],
      "source": [
        "import pandas as pd\n",
        "import seaborn as sns\n",
        "from matplotlib import pyplot as plt\n",
        "from sklearn.tree import DecisionTreeRegressor\n",
        "from sklearn.metrics import mean_squared_error, r2_score\n",
        "from sklearn.preprocessing import LabelEncoder\n",
        "from sklearn.ensemble import RandomForestRegressor, GradientBoostingRegressor\n",
        "from sklearn.neighbors import KNeighborsRegressor\n",
        "from sklearn.svm import SVR\n",
        "from xgboost import XGBRegressor\n",
        "from sklearn.linear_model import LinearRegression, Ridge, Lasso\n",
        "from sklearn.model_selection import train_test_split"
      ]
    },
    {
      "cell_type": "code",
      "execution_count": 2,
      "metadata": {
        "colab": {
          "base_uri": "https://localhost:8080/"
        },
        "id": "-VIk2ucFex1o",
        "outputId": "3c7c56f6-462f-46f9-9d86-97b993f79720"
      },
      "outputs": [
        {
          "output_type": "stream",
          "name": "stdout",
          "text": [
            "Requirement already satisfied: catboost in /usr/local/lib/python3.10/dist-packages (1.2.2)\n",
            "Requirement already satisfied: graphviz in /usr/local/lib/python3.10/dist-packages (from catboost) (0.20.1)\n",
            "Requirement already satisfied: matplotlib in /usr/local/lib/python3.10/dist-packages (from catboost) (3.7.1)\n",
            "Requirement already satisfied: numpy>=1.16.0 in /usr/local/lib/python3.10/dist-packages (from catboost) (1.23.5)\n",
            "Requirement already satisfied: pandas>=0.24 in /usr/local/lib/python3.10/dist-packages (from catboost) (1.5.3)\n",
            "Requirement already satisfied: scipy in /usr/local/lib/python3.10/dist-packages (from catboost) (1.11.4)\n",
            "Requirement already satisfied: plotly in /usr/local/lib/python3.10/dist-packages (from catboost) (5.15.0)\n",
            "Requirement already satisfied: six in /usr/local/lib/python3.10/dist-packages (from catboost) (1.16.0)\n",
            "Requirement already satisfied: python-dateutil>=2.8.1 in /usr/local/lib/python3.10/dist-packages (from pandas>=0.24->catboost) (2.8.2)\n",
            "Requirement already satisfied: pytz>=2020.1 in /usr/local/lib/python3.10/dist-packages (from pandas>=0.24->catboost) (2023.3.post1)\n",
            "Requirement already satisfied: contourpy>=1.0.1 in /usr/local/lib/python3.10/dist-packages (from matplotlib->catboost) (1.2.0)\n",
            "Requirement already satisfied: cycler>=0.10 in /usr/local/lib/python3.10/dist-packages (from matplotlib->catboost) (0.12.1)\n",
            "Requirement already satisfied: fonttools>=4.22.0 in /usr/local/lib/python3.10/dist-packages (from matplotlib->catboost) (4.46.0)\n",
            "Requirement already satisfied: kiwisolver>=1.0.1 in /usr/local/lib/python3.10/dist-packages (from matplotlib->catboost) (1.4.5)\n",
            "Requirement already satisfied: packaging>=20.0 in /usr/local/lib/python3.10/dist-packages (from matplotlib->catboost) (23.2)\n",
            "Requirement already satisfied: pillow>=6.2.0 in /usr/local/lib/python3.10/dist-packages (from matplotlib->catboost) (9.4.0)\n",
            "Requirement already satisfied: pyparsing>=2.3.1 in /usr/local/lib/python3.10/dist-packages (from matplotlib->catboost) (3.1.1)\n",
            "Requirement already satisfied: tenacity>=6.2.0 in /usr/local/lib/python3.10/dist-packages (from plotly->catboost) (8.2.3)\n"
          ]
        }
      ],
      "source": [
        "!pip install catboost\n",
        "from catboost import CatBoostRegressor"
      ]
    },
    {
      "cell_type": "markdown",
      "source": [
        "# Regression"
      ],
      "metadata": {
        "id": "cwhd5gEkQ5C9"
      }
    },
    {
      "cell_type": "markdown",
      "source": [
        "## Model with noisy samples"
      ],
      "metadata": {
        "id": "Qcwh7AS0TF7-"
      }
    },
    {
      "cell_type": "code",
      "source": [
        "data = pd.read_excel(\"/content/Data with noisy samples.xlsx\")"
      ],
      "metadata": {
        "id": "Rro04Vx3Ln5e"
      },
      "execution_count": 3,
      "outputs": []
    },
    {
      "cell_type": "code",
      "execution_count": 4,
      "metadata": {
        "id": "nfus7tZPt-pn"
      },
      "outputs": [],
      "source": [
        "data['ad_company_ad'] = data['ad_company_ad'].astype('object')\n",
        "data['ad_protection_entitlement'] = data['ad_protection_entitlement'].astype('object')\n",
        "data['ad_projectid'] = data['ad_projectid'].astype('object')\n",
        "data['ad_contain_videos'] = data['ad_contain_videos'].astype('object')"
      ]
    },
    {
      "cell_type": "code",
      "source": [
        "data['ad_price'] = data['ad_price']/1e6"
      ],
      "metadata": {
        "id": "gWljTGWklbB1"
      },
      "execution_count": 5,
      "outputs": []
    },
    {
      "cell_type": "code",
      "source": [
        "df1 = data.copy()"
      ],
      "metadata": {
        "id": "62eaklX4TGQt"
      },
      "execution_count": 6,
      "outputs": []
    },
    {
      "cell_type": "code",
      "execution_count": 7,
      "metadata": {
        "id": "CX4VNmIdTdrS"
      },
      "outputs": [],
      "source": [
        "# Separate the features (X) and the target (y)\n",
        "X = df1.drop(columns=['ad_price'])\n",
        "y = df1['ad_price']\n",
        "\n",
        "# Split the data into a test subset (smaller portion) and a training subset (larger portion)\n",
        "X_train, X_test, y_train, y_test = train_test_split(X, y, test_size=0.2, random_state=42)"
      ]
    },
    {
      "cell_type": "code",
      "execution_count": 8,
      "metadata": {
        "id": "7bf3rCUETdrS"
      },
      "outputs": [],
      "source": [
        "numerical_columns = X.select_dtypes(exclude = 'object').columns\n",
        "categorical_columns = X_train.select_dtypes(include = 'object').columns\n",
        "categorical_column_indices = [X_train.columns.get_loc(col) for col in categorical_columns]"
      ]
    },
    {
      "cell_type": "code",
      "execution_count": 9,
      "metadata": {
        "id": "EnTcXA4JTdrT"
      },
      "outputs": [],
      "source": [
        "# Convert NaN values to strings in the specified categorical columns\n",
        "for col_index in categorical_column_indices:\n",
        "    X_train.iloc[:, col_index] = X_train.iloc[:, col_index].astype(str).fillna('NaN')\n",
        "    X_test.iloc[:, col_index] = X_test.iloc[:, col_index].astype(str).fillna('NaN')"
      ]
    },
    {
      "cell_type": "code",
      "source": [
        "# Initialize an empty dataframe to store results\n",
        "results_df = pd.DataFrame(columns=['Model', 'MSE', 'R2_Score'])\n",
        "\n",
        "# Additional regressors for models_with_categorical\n",
        "models_with_categorical = [\n",
        "    DecisionTreeRegressor(),\n",
        "    RandomForestRegressor(max_depth=7, random_state=42),\n",
        "    GradientBoostingRegressor(),\n",
        "    XGBRegressor(learning_rate=0.2, max_depth=5, random_state=42),\n",
        "    SVR(),\n",
        "    CatBoostRegressor(iterations=1000,  # Specify the number of boosting iterations\n",
        "                      learning_rate=0.1,  # Learning rate\n",
        "                      depth = 7,\n",
        "                      verbose=100,  # Print progress every 100 iterations\n",
        "                      random_seed=42,\n",
        "                      cat_features=categorical_column_indices)\n",
        "]\n",
        "\n",
        "# Additional regressors for models_without_categorical\n",
        "models_without_categorical = [\n",
        "    LinearRegression(),\n",
        "    Ridge(alpha = 2),\n",
        "    Lasso(),\n",
        "    KNeighborsRegressor()\n",
        "]"
      ],
      "metadata": {
        "id": "wZ_6BqdiTdrT"
      },
      "execution_count": 10,
      "outputs": []
    },
    {
      "cell_type": "code",
      "source": [
        "for model in models_without_categorical:\n",
        "        # Fit the model\n",
        "        model.fit(X_train[numerical_columns].fillna(X[numerical_columns].mean()), y_train)\n",
        "\n",
        "        # Predict on the test set\n",
        "        y_pred = model.predict(X_test[numerical_columns].fillna(X[numerical_columns].mean()))\n",
        "\n",
        "        # Calculate metrics\n",
        "        mse = mean_squared_error(y_test, y_pred)\n",
        "        r2 = r2_score(y_test, y_pred)\n",
        "\n",
        "        # Append results to the dataframe\n",
        "        results_df = results_df.append({'Model': type(model).__name__,\n",
        "                                        'MSE': mse,\n",
        "                                        'R2_Score': r2},\n",
        "                                       ignore_index=True)"
      ],
      "metadata": {
        "colab": {
          "base_uri": "https://localhost:8080/"
        },
        "outputId": "bef283fc-086c-4c65-8580-a68e84d38fe2",
        "id": "8FW9vbdnTdrT"
      },
      "execution_count": 11,
      "outputs": [
        {
          "output_type": "stream",
          "name": "stderr",
          "text": [
            "<ipython-input-11-2ed0ce384d00>:13: FutureWarning: The frame.append method is deprecated and will be removed from pandas in a future version. Use pandas.concat instead.\n",
            "  results_df = results_df.append({'Model': type(model).__name__,\n",
            "<ipython-input-11-2ed0ce384d00>:13: FutureWarning: The frame.append method is deprecated and will be removed from pandas in a future version. Use pandas.concat instead.\n",
            "  results_df = results_df.append({'Model': type(model).__name__,\n",
            "<ipython-input-11-2ed0ce384d00>:13: FutureWarning: The frame.append method is deprecated and will be removed from pandas in a future version. Use pandas.concat instead.\n",
            "  results_df = results_df.append({'Model': type(model).__name__,\n",
            "<ipython-input-11-2ed0ce384d00>:13: FutureWarning: The frame.append method is deprecated and will be removed from pandas in a future version. Use pandas.concat instead.\n",
            "  results_df = results_df.append({'Model': type(model).__name__,\n"
          ]
        }
      ]
    },
    {
      "cell_type": "code",
      "source": [
        "# Encode input\n",
        "X_encoded = X.copy()\n",
        "for feature in categorical_columns:\n",
        "  label_encoder = LabelEncoder()\n",
        "  X_encoded[feature] = label_encoder.fit_transform(X_encoded[feature])\n",
        "\n",
        "X_train_encoded, X_test_encoded, y_train, y_test = train_test_split(X_encoded, y, test_size=0.2, random_state=42)\n",
        "\n",
        "for model in models_with_categorical:\n",
        "        # Fit the model\n",
        "        model.fit(X_train_encoded.fillna(X_encoded.mean()), y_train)\n",
        "\n",
        "        # Predict on the test set\n",
        "        y_pred = model.predict(X_test_encoded.fillna(X_encoded.mean()))\n",
        "\n",
        "        # Calculate metrics\n",
        "        mse = mean_squared_error(y_test, y_pred)\n",
        "        r2 = r2_score(y_test, y_pred)\n",
        "\n",
        "        # Append results to the dataframe\n",
        "        results_df = results_df.append({'Model': type(model).__name__,\n",
        "                                        'MSE': mse,\n",
        "                                        'R2_Score': r2},\n",
        "                                       ignore_index=True)"
      ],
      "metadata": {
        "colab": {
          "base_uri": "https://localhost:8080/"
        },
        "outputId": "5e5d3aba-3557-4499-f512-177b84e7d7ee",
        "id": "Wcu7pKZETdrT"
      },
      "execution_count": 12,
      "outputs": [
        {
          "output_type": "stream",
          "name": "stderr",
          "text": [
            "<ipython-input-12-ca2caa6a49ea>:21: FutureWarning: The frame.append method is deprecated and will be removed from pandas in a future version. Use pandas.concat instead.\n",
            "  results_df = results_df.append({'Model': type(model).__name__,\n",
            "<ipython-input-12-ca2caa6a49ea>:21: FutureWarning: The frame.append method is deprecated and will be removed from pandas in a future version. Use pandas.concat instead.\n",
            "  results_df = results_df.append({'Model': type(model).__name__,\n",
            "<ipython-input-12-ca2caa6a49ea>:21: FutureWarning: The frame.append method is deprecated and will be removed from pandas in a future version. Use pandas.concat instead.\n",
            "  results_df = results_df.append({'Model': type(model).__name__,\n",
            "<ipython-input-12-ca2caa6a49ea>:21: FutureWarning: The frame.append method is deprecated and will be removed from pandas in a future version. Use pandas.concat instead.\n",
            "  results_df = results_df.append({'Model': type(model).__name__,\n",
            "<ipython-input-12-ca2caa6a49ea>:21: FutureWarning: The frame.append method is deprecated and will be removed from pandas in a future version. Use pandas.concat instead.\n",
            "  results_df = results_df.append({'Model': type(model).__name__,\n"
          ]
        },
        {
          "output_type": "stream",
          "name": "stdout",
          "text": [
            "0:\tlearn: 10476.5192795\ttotal: 118ms\tremaining: 1m 57s\n",
            "100:\tlearn: 5676.6054516\ttotal: 6.09s\tremaining: 54.2s\n",
            "200:\tlearn: 2956.0673350\ttotal: 12.5s\tremaining: 49.7s\n",
            "300:\tlearn: 1876.0993394\ttotal: 16.2s\tremaining: 37.7s\n",
            "400:\tlearn: 1458.8494331\ttotal: 18.7s\tremaining: 27.9s\n",
            "500:\tlearn: 1214.3115511\ttotal: 22.7s\tremaining: 22.6s\n",
            "600:\tlearn: 1093.8398240\ttotal: 26.3s\tremaining: 17.5s\n",
            "700:\tlearn: 960.1633463\ttotal: 28.8s\tremaining: 12.3s\n",
            "800:\tlearn: 894.9294355\ttotal: 31.3s\tremaining: 7.78s\n",
            "900:\tlearn: 823.4941993\ttotal: 33.8s\tremaining: 3.71s\n",
            "999:\tlearn: 768.5551333\ttotal: 37.7s\tremaining: 0us\n"
          ]
        },
        {
          "output_type": "stream",
          "name": "stderr",
          "text": [
            "<ipython-input-12-ca2caa6a49ea>:21: FutureWarning: The frame.append method is deprecated and will be removed from pandas in a future version. Use pandas.concat instead.\n",
            "  results_df = results_df.append({'Model': type(model).__name__,\n"
          ]
        }
      ]
    },
    {
      "cell_type": "code",
      "source": [
        "# Display the results dataframe\n",
        "results_df"
      ],
      "metadata": {
        "colab": {
          "base_uri": "https://localhost:8080/",
          "height": 376
        },
        "outputId": "cce6b354-f803-4df1-fc40-77379fd95a23",
        "id": "irRpmdkZTdrT"
      },
      "execution_count": 13,
      "outputs": [
        {
          "output_type": "execute_result",
          "data": {
            "text/plain": [
              "                       Model           MSE  R2_Score\n",
              "0           LinearRegression  2.837706e+07  0.145286\n",
              "1                      Ridge  2.837646e+07  0.145304\n",
              "2                      Lasso  2.837599e+07  0.145318\n",
              "3        KNeighborsRegressor  4.065833e+07 -0.224624\n",
              "4      DecisionTreeRegressor  2.600304e+07  0.216791\n",
              "5      RandomForestRegressor  2.773615e+07  0.164590\n",
              "6  GradientBoostingRegressor  2.386885e+07  0.281073\n",
              "7               XGBRegressor  2.323104e+07  0.300283\n",
              "8                        SVR  3.374690e+07 -0.016453\n",
              "9          CatBoostRegressor  2.384278e+07  0.281858"
            ],
            "text/html": [
              "\n",
              "  <div id=\"df-370c9df5-4950-42fe-88db-afff553677c3\" class=\"colab-df-container\">\n",
              "    <div>\n",
              "<style scoped>\n",
              "    .dataframe tbody tr th:only-of-type {\n",
              "        vertical-align: middle;\n",
              "    }\n",
              "\n",
              "    .dataframe tbody tr th {\n",
              "        vertical-align: top;\n",
              "    }\n",
              "\n",
              "    .dataframe thead th {\n",
              "        text-align: right;\n",
              "    }\n",
              "</style>\n",
              "<table border=\"1\" class=\"dataframe\">\n",
              "  <thead>\n",
              "    <tr style=\"text-align: right;\">\n",
              "      <th></th>\n",
              "      <th>Model</th>\n",
              "      <th>MSE</th>\n",
              "      <th>R2_Score</th>\n",
              "    </tr>\n",
              "  </thead>\n",
              "  <tbody>\n",
              "    <tr>\n",
              "      <th>0</th>\n",
              "      <td>LinearRegression</td>\n",
              "      <td>2.837706e+07</td>\n",
              "      <td>0.145286</td>\n",
              "    </tr>\n",
              "    <tr>\n",
              "      <th>1</th>\n",
              "      <td>Ridge</td>\n",
              "      <td>2.837646e+07</td>\n",
              "      <td>0.145304</td>\n",
              "    </tr>\n",
              "    <tr>\n",
              "      <th>2</th>\n",
              "      <td>Lasso</td>\n",
              "      <td>2.837599e+07</td>\n",
              "      <td>0.145318</td>\n",
              "    </tr>\n",
              "    <tr>\n",
              "      <th>3</th>\n",
              "      <td>KNeighborsRegressor</td>\n",
              "      <td>4.065833e+07</td>\n",
              "      <td>-0.224624</td>\n",
              "    </tr>\n",
              "    <tr>\n",
              "      <th>4</th>\n",
              "      <td>DecisionTreeRegressor</td>\n",
              "      <td>2.600304e+07</td>\n",
              "      <td>0.216791</td>\n",
              "    </tr>\n",
              "    <tr>\n",
              "      <th>5</th>\n",
              "      <td>RandomForestRegressor</td>\n",
              "      <td>2.773615e+07</td>\n",
              "      <td>0.164590</td>\n",
              "    </tr>\n",
              "    <tr>\n",
              "      <th>6</th>\n",
              "      <td>GradientBoostingRegressor</td>\n",
              "      <td>2.386885e+07</td>\n",
              "      <td>0.281073</td>\n",
              "    </tr>\n",
              "    <tr>\n",
              "      <th>7</th>\n",
              "      <td>XGBRegressor</td>\n",
              "      <td>2.323104e+07</td>\n",
              "      <td>0.300283</td>\n",
              "    </tr>\n",
              "    <tr>\n",
              "      <th>8</th>\n",
              "      <td>SVR</td>\n",
              "      <td>3.374690e+07</td>\n",
              "      <td>-0.016453</td>\n",
              "    </tr>\n",
              "    <tr>\n",
              "      <th>9</th>\n",
              "      <td>CatBoostRegressor</td>\n",
              "      <td>2.384278e+07</td>\n",
              "      <td>0.281858</td>\n",
              "    </tr>\n",
              "  </tbody>\n",
              "</table>\n",
              "</div>\n",
              "    <div class=\"colab-df-buttons\">\n",
              "\n",
              "  <div class=\"colab-df-container\">\n",
              "    <button class=\"colab-df-convert\" onclick=\"convertToInteractive('df-370c9df5-4950-42fe-88db-afff553677c3')\"\n",
              "            title=\"Convert this dataframe to an interactive table.\"\n",
              "            style=\"display:none;\">\n",
              "\n",
              "  <svg xmlns=\"http://www.w3.org/2000/svg\" height=\"24px\" viewBox=\"0 -960 960 960\">\n",
              "    <path d=\"M120-120v-720h720v720H120Zm60-500h600v-160H180v160Zm220 220h160v-160H400v160Zm0 220h160v-160H400v160ZM180-400h160v-160H180v160Zm440 0h160v-160H620v160ZM180-180h160v-160H180v160Zm440 0h160v-160H620v160Z\"/>\n",
              "  </svg>\n",
              "    </button>\n",
              "\n",
              "  <style>\n",
              "    .colab-df-container {\n",
              "      display:flex;\n",
              "      gap: 12px;\n",
              "    }\n",
              "\n",
              "    .colab-df-convert {\n",
              "      background-color: #E8F0FE;\n",
              "      border: none;\n",
              "      border-radius: 50%;\n",
              "      cursor: pointer;\n",
              "      display: none;\n",
              "      fill: #1967D2;\n",
              "      height: 32px;\n",
              "      padding: 0 0 0 0;\n",
              "      width: 32px;\n",
              "    }\n",
              "\n",
              "    .colab-df-convert:hover {\n",
              "      background-color: #E2EBFA;\n",
              "      box-shadow: 0px 1px 2px rgba(60, 64, 67, 0.3), 0px 1px 3px 1px rgba(60, 64, 67, 0.15);\n",
              "      fill: #174EA6;\n",
              "    }\n",
              "\n",
              "    .colab-df-buttons div {\n",
              "      margin-bottom: 4px;\n",
              "    }\n",
              "\n",
              "    [theme=dark] .colab-df-convert {\n",
              "      background-color: #3B4455;\n",
              "      fill: #D2E3FC;\n",
              "    }\n",
              "\n",
              "    [theme=dark] .colab-df-convert:hover {\n",
              "      background-color: #434B5C;\n",
              "      box-shadow: 0px 1px 3px 1px rgba(0, 0, 0, 0.15);\n",
              "      filter: drop-shadow(0px 1px 2px rgba(0, 0, 0, 0.3));\n",
              "      fill: #FFFFFF;\n",
              "    }\n",
              "  </style>\n",
              "\n",
              "    <script>\n",
              "      const buttonEl =\n",
              "        document.querySelector('#df-370c9df5-4950-42fe-88db-afff553677c3 button.colab-df-convert');\n",
              "      buttonEl.style.display =\n",
              "        google.colab.kernel.accessAllowed ? 'block' : 'none';\n",
              "\n",
              "      async function convertToInteractive(key) {\n",
              "        const element = document.querySelector('#df-370c9df5-4950-42fe-88db-afff553677c3');\n",
              "        const dataTable =\n",
              "          await google.colab.kernel.invokeFunction('convertToInteractive',\n",
              "                                                    [key], {});\n",
              "        if (!dataTable) return;\n",
              "\n",
              "        const docLinkHtml = 'Like what you see? Visit the ' +\n",
              "          '<a target=\"_blank\" href=https://colab.research.google.com/notebooks/data_table.ipynb>data table notebook</a>'\n",
              "          + ' to learn more about interactive tables.';\n",
              "        element.innerHTML = '';\n",
              "        dataTable['output_type'] = 'display_data';\n",
              "        await google.colab.output.renderOutput(dataTable, element);\n",
              "        const docLink = document.createElement('div');\n",
              "        docLink.innerHTML = docLinkHtml;\n",
              "        element.appendChild(docLink);\n",
              "      }\n",
              "    </script>\n",
              "  </div>\n",
              "\n",
              "\n",
              "<div id=\"df-3c886af7-1dca-48d7-b423-7b5afd615bcd\">\n",
              "  <button class=\"colab-df-quickchart\" onclick=\"quickchart('df-3c886af7-1dca-48d7-b423-7b5afd615bcd')\"\n",
              "            title=\"Suggest charts\"\n",
              "            style=\"display:none;\">\n",
              "\n",
              "<svg xmlns=\"http://www.w3.org/2000/svg\" height=\"24px\"viewBox=\"0 0 24 24\"\n",
              "     width=\"24px\">\n",
              "    <g>\n",
              "        <path d=\"M19 3H5c-1.1 0-2 .9-2 2v14c0 1.1.9 2 2 2h14c1.1 0 2-.9 2-2V5c0-1.1-.9-2-2-2zM9 17H7v-7h2v7zm4 0h-2V7h2v10zm4 0h-2v-4h2v4z\"/>\n",
              "    </g>\n",
              "</svg>\n",
              "  </button>\n",
              "\n",
              "<style>\n",
              "  .colab-df-quickchart {\n",
              "      --bg-color: #E8F0FE;\n",
              "      --fill-color: #1967D2;\n",
              "      --hover-bg-color: #E2EBFA;\n",
              "      --hover-fill-color: #174EA6;\n",
              "      --disabled-fill-color: #AAA;\n",
              "      --disabled-bg-color: #DDD;\n",
              "  }\n",
              "\n",
              "  [theme=dark] .colab-df-quickchart {\n",
              "      --bg-color: #3B4455;\n",
              "      --fill-color: #D2E3FC;\n",
              "      --hover-bg-color: #434B5C;\n",
              "      --hover-fill-color: #FFFFFF;\n",
              "      --disabled-bg-color: #3B4455;\n",
              "      --disabled-fill-color: #666;\n",
              "  }\n",
              "\n",
              "  .colab-df-quickchart {\n",
              "    background-color: var(--bg-color);\n",
              "    border: none;\n",
              "    border-radius: 50%;\n",
              "    cursor: pointer;\n",
              "    display: none;\n",
              "    fill: var(--fill-color);\n",
              "    height: 32px;\n",
              "    padding: 0;\n",
              "    width: 32px;\n",
              "  }\n",
              "\n",
              "  .colab-df-quickchart:hover {\n",
              "    background-color: var(--hover-bg-color);\n",
              "    box-shadow: 0 1px 2px rgba(60, 64, 67, 0.3), 0 1px 3px 1px rgba(60, 64, 67, 0.15);\n",
              "    fill: var(--button-hover-fill-color);\n",
              "  }\n",
              "\n",
              "  .colab-df-quickchart-complete:disabled,\n",
              "  .colab-df-quickchart-complete:disabled:hover {\n",
              "    background-color: var(--disabled-bg-color);\n",
              "    fill: var(--disabled-fill-color);\n",
              "    box-shadow: none;\n",
              "  }\n",
              "\n",
              "  .colab-df-spinner {\n",
              "    border: 2px solid var(--fill-color);\n",
              "    border-color: transparent;\n",
              "    border-bottom-color: var(--fill-color);\n",
              "    animation:\n",
              "      spin 1s steps(1) infinite;\n",
              "  }\n",
              "\n",
              "  @keyframes spin {\n",
              "    0% {\n",
              "      border-color: transparent;\n",
              "      border-bottom-color: var(--fill-color);\n",
              "      border-left-color: var(--fill-color);\n",
              "    }\n",
              "    20% {\n",
              "      border-color: transparent;\n",
              "      border-left-color: var(--fill-color);\n",
              "      border-top-color: var(--fill-color);\n",
              "    }\n",
              "    30% {\n",
              "      border-color: transparent;\n",
              "      border-left-color: var(--fill-color);\n",
              "      border-top-color: var(--fill-color);\n",
              "      border-right-color: var(--fill-color);\n",
              "    }\n",
              "    40% {\n",
              "      border-color: transparent;\n",
              "      border-right-color: var(--fill-color);\n",
              "      border-top-color: var(--fill-color);\n",
              "    }\n",
              "    60% {\n",
              "      border-color: transparent;\n",
              "      border-right-color: var(--fill-color);\n",
              "    }\n",
              "    80% {\n",
              "      border-color: transparent;\n",
              "      border-right-color: var(--fill-color);\n",
              "      border-bottom-color: var(--fill-color);\n",
              "    }\n",
              "    90% {\n",
              "      border-color: transparent;\n",
              "      border-bottom-color: var(--fill-color);\n",
              "    }\n",
              "  }\n",
              "</style>\n",
              "\n",
              "  <script>\n",
              "    async function quickchart(key) {\n",
              "      const quickchartButtonEl =\n",
              "        document.querySelector('#' + key + ' button');\n",
              "      quickchartButtonEl.disabled = true;  // To prevent multiple clicks.\n",
              "      quickchartButtonEl.classList.add('colab-df-spinner');\n",
              "      try {\n",
              "        const charts = await google.colab.kernel.invokeFunction(\n",
              "            'suggestCharts', [key], {});\n",
              "      } catch (error) {\n",
              "        console.error('Error during call to suggestCharts:', error);\n",
              "      }\n",
              "      quickchartButtonEl.classList.remove('colab-df-spinner');\n",
              "      quickchartButtonEl.classList.add('colab-df-quickchart-complete');\n",
              "    }\n",
              "    (() => {\n",
              "      let quickchartButtonEl =\n",
              "        document.querySelector('#df-3c886af7-1dca-48d7-b423-7b5afd615bcd button');\n",
              "      quickchartButtonEl.style.display =\n",
              "        google.colab.kernel.accessAllowed ? 'block' : 'none';\n",
              "    })();\n",
              "  </script>\n",
              "</div>\n",
              "\n",
              "  <div id=\"id_0a34883c-7f0d-4652-85ee-b54e89b6ae77\">\n",
              "    <style>\n",
              "      .colab-df-generate {\n",
              "        background-color: #E8F0FE;\n",
              "        border: none;\n",
              "        border-radius: 50%;\n",
              "        cursor: pointer;\n",
              "        display: none;\n",
              "        fill: #1967D2;\n",
              "        height: 32px;\n",
              "        padding: 0 0 0 0;\n",
              "        width: 32px;\n",
              "      }\n",
              "\n",
              "      .colab-df-generate:hover {\n",
              "        background-color: #E2EBFA;\n",
              "        box-shadow: 0px 1px 2px rgba(60, 64, 67, 0.3), 0px 1px 3px 1px rgba(60, 64, 67, 0.15);\n",
              "        fill: #174EA6;\n",
              "      }\n",
              "\n",
              "      [theme=dark] .colab-df-generate {\n",
              "        background-color: #3B4455;\n",
              "        fill: #D2E3FC;\n",
              "      }\n",
              "\n",
              "      [theme=dark] .colab-df-generate:hover {\n",
              "        background-color: #434B5C;\n",
              "        box-shadow: 0px 1px 3px 1px rgba(0, 0, 0, 0.15);\n",
              "        filter: drop-shadow(0px 1px 2px rgba(0, 0, 0, 0.3));\n",
              "        fill: #FFFFFF;\n",
              "      }\n",
              "    </style>\n",
              "    <button class=\"colab-df-generate\" onclick=\"generateWithVariable('results_df')\"\n",
              "            title=\"Generate code using this dataframe.\"\n",
              "            style=\"display:none;\">\n",
              "\n",
              "  <svg xmlns=\"http://www.w3.org/2000/svg\" height=\"24px\"viewBox=\"0 0 24 24\"\n",
              "       width=\"24px\">\n",
              "    <path d=\"M7,19H8.4L18.45,9,17,7.55,7,17.6ZM5,21V16.75L18.45,3.32a2,2,0,0,1,2.83,0l1.4,1.43a1.91,1.91,0,0,1,.58,1.4,1.91,1.91,0,0,1-.58,1.4L9.25,21ZM18.45,9,17,7.55Zm-12,3A5.31,5.31,0,0,0,4.9,8.1,5.31,5.31,0,0,0,1,6.5,5.31,5.31,0,0,0,4.9,4.9,5.31,5.31,0,0,0,6.5,1,5.31,5.31,0,0,0,8.1,4.9,5.31,5.31,0,0,0,12,6.5,5.46,5.46,0,0,0,6.5,12Z\"/>\n",
              "  </svg>\n",
              "    </button>\n",
              "    <script>\n",
              "      (() => {\n",
              "      const buttonEl =\n",
              "        document.querySelector('#id_0a34883c-7f0d-4652-85ee-b54e89b6ae77 button.colab-df-generate');\n",
              "      buttonEl.style.display =\n",
              "        google.colab.kernel.accessAllowed ? 'block' : 'none';\n",
              "\n",
              "      buttonEl.onclick = () => {\n",
              "        google.colab.notebook.generateWithVariable('results_df');\n",
              "      }\n",
              "      })();\n",
              "    </script>\n",
              "  </div>\n",
              "\n",
              "    </div>\n",
              "  </div>\n"
            ]
          },
          "metadata": {},
          "execution_count": 13
        }
      ]
    },
    {
      "cell_type": "markdown",
      "source": [
        "## Model without noisy samples"
      ],
      "metadata": {
        "id": "AXeYttq8SFQG"
      }
    },
    {
      "cell_type": "code",
      "execution_count": 14,
      "metadata": {
        "id": "nf210s5WbY0Q",
        "colab": {
          "base_uri": "https://localhost:8080/"
        },
        "outputId": "24eb97a1-a959-466b-bea2-e9467e1dd29a"
      },
      "outputs": [
        {
          "output_type": "stream",
          "name": "stdout",
          "text": [
            "<class 'pandas.core.frame.DataFrame'>\n",
            "RangeIndex: 8070 entries, 0 to 8069\n",
            "Data columns (total 17 columns):\n",
            " #   Column                                   Non-Null Count  Dtype  \n",
            "---  ------                                   --------------  -----  \n",
            " 0   Unnamed: 0                               8070 non-null   int64  \n",
            " 1   ad_list_id                               8070 non-null   int64  \n",
            " 2   ad_price                                 8070 non-null   float64\n",
            " 3   ad_rooms                                 8070 non-null   int64  \n",
            " 4   ad_size                                  8070 non-null   float64\n",
            " 5   ad_floornumber                           8070 non-null   float64\n",
            " 6   ad_longitude                             8070 non-null   float64\n",
            " 7   ad_latitude                              8070 non-null   float64\n",
            " 8   ad_params_apartment_feature_value        8070 non-null   object \n",
            " 9   ad_params_apartment_type_value           8070 non-null   object \n",
            " 10  ad_params_balconydirection_value         8070 non-null   object \n",
            " 11  ad_params_direction_value                8070 non-null   object \n",
            " 12  ad_params_property_status_value          8070 non-null   object \n",
            " 13  ad_toilets                               8070 non-null   float64\n",
            " 14  ad_params_property_legal_document_value  8070 non-null   object \n",
            " 15  ad_params_furnishing_sell_value          8070 non-null   object \n",
            " 16  ad_area_name                             8070 non-null   object \n",
            "dtypes: float64(6), int64(3), object(8)\n",
            "memory usage: 1.0+ MB\n"
          ]
        }
      ],
      "source": [
        "df2 = pd.read_csv(\"/content/Data without noisy samples.csv\")\n",
        "df2.info()"
      ]
    },
    {
      "cell_type": "code",
      "source": [
        "df2.drop(columns=[\"Unnamed: 0\", 'ad_list_id'], inplace=True)"
      ],
      "metadata": {
        "id": "OA2shcOfKe8k"
      },
      "execution_count": 15,
      "outputs": []
    },
    {
      "cell_type": "code",
      "source": [
        "df2['ad_price'] = df2['ad_price']/1e6"
      ],
      "metadata": {
        "id": "yvF2gyBhLOl8"
      },
      "execution_count": 16,
      "outputs": []
    },
    {
      "cell_type": "code",
      "execution_count": 17,
      "metadata": {
        "id": "HJmTxb6ehctD"
      },
      "outputs": [],
      "source": [
        "# Separate the features (X) and the target (y)\n",
        "X = df2.drop(columns=['ad_price'])\n",
        "y = df2['ad_price']\n",
        "\n",
        "# Split the data into a test subset (smaller portion) and a training subset (larger portion)\n",
        "X_train, X_test, y_train, y_test = train_test_split(X, y, test_size=0.2, random_state=42)"
      ]
    },
    {
      "cell_type": "code",
      "execution_count": 18,
      "metadata": {
        "id": "Z7iHl1lBlD38"
      },
      "outputs": [],
      "source": [
        "numerical_columns = X.select_dtypes(exclude = 'object').columns\n",
        "categorical_columns = X_train.select_dtypes(include = 'object').columns\n",
        "categorical_column_indices = [X_train.columns.get_loc(col) for col in categorical_columns]"
      ]
    },
    {
      "cell_type": "code",
      "execution_count": 19,
      "metadata": {
        "id": "zyWinNIFChLo"
      },
      "outputs": [],
      "source": [
        "# Convert NaN values to strings in the specified categorical columns\n",
        "for col_index in categorical_column_indices:\n",
        "    X_train.iloc[:, col_index] = X_train.iloc[:, col_index].astype(str).fillna('NaN')\n",
        "    X_test.iloc[:, col_index] = X_test.iloc[:, col_index].astype(str).fillna('NaN')"
      ]
    },
    {
      "cell_type": "code",
      "source": [
        "# Initialize an empty dataframe to store results\n",
        "results_df = pd.DataFrame(columns=['Model', 'MSE', 'R2_Score'])\n",
        "\n",
        "# Additional regressors for models_with_categorical\n",
        "models_with_categorical = [\n",
        "    DecisionTreeRegressor(),\n",
        "    RandomForestRegressor(max_depth=7, random_state=42),\n",
        "    GradientBoostingRegressor(),\n",
        "    XGBRegressor(learning_rate=0.2, max_depth=5, random_state=42),\n",
        "    SVR(),\n",
        "    CatBoostRegressor(iterations=1000,  # Specify the number of boosting iterations\n",
        "                      learning_rate=0.1,  # Learning rate\n",
        "                      depth = 7,\n",
        "                      verbose=100,  # Print progress every 100 iterations\n",
        "                      random_seed=42,\n",
        "                      cat_features=categorical_column_indices)\n",
        "]\n",
        "\n",
        "# Additional regressors for models_without_categorical\n",
        "models_without_categorical = [\n",
        "    LinearRegression(),\n",
        "    Ridge(),\n",
        "    Lasso(),\n",
        "    KNeighborsRegressor()\n",
        "]"
      ],
      "metadata": {
        "id": "QMscGfR2xoRi"
      },
      "execution_count": 20,
      "outputs": []
    },
    {
      "cell_type": "code",
      "source": [
        "for model in models_without_categorical:\n",
        "        # Fit the model\n",
        "        model.fit(X_train[numerical_columns].fillna(X[numerical_columns].mean()), y_train)\n",
        "\n",
        "        # Predict on the test set\n",
        "        y_pred = model.predict(X_test[numerical_columns].fillna(X[numerical_columns].mean()))\n",
        "\n",
        "        # Calculate metrics\n",
        "        mse = mean_squared_error(y_test, y_pred)\n",
        "        r2 = r2_score(y_test, y_pred)\n",
        "\n",
        "        # Append results to the dataframe\n",
        "        results_df = results_df.append({'Model': type(model).__name__,\n",
        "                                        'MSE': mse,\n",
        "                                        'R2_Score': r2},\n",
        "                                       ignore_index=True)"
      ],
      "metadata": {
        "colab": {
          "base_uri": "https://localhost:8080/"
        },
        "id": "9po8nZZYnToX",
        "outputId": "77739cc1-2257-474c-e2df-60b8087d56fb"
      },
      "execution_count": 21,
      "outputs": [
        {
          "output_type": "stream",
          "name": "stderr",
          "text": [
            "<ipython-input-21-2ed0ce384d00>:13: FutureWarning: The frame.append method is deprecated and will be removed from pandas in a future version. Use pandas.concat instead.\n",
            "  results_df = results_df.append({'Model': type(model).__name__,\n",
            "<ipython-input-21-2ed0ce384d00>:13: FutureWarning: The frame.append method is deprecated and will be removed from pandas in a future version. Use pandas.concat instead.\n",
            "  results_df = results_df.append({'Model': type(model).__name__,\n",
            "<ipython-input-21-2ed0ce384d00>:13: FutureWarning: The frame.append method is deprecated and will be removed from pandas in a future version. Use pandas.concat instead.\n",
            "  results_df = results_df.append({'Model': type(model).__name__,\n",
            "<ipython-input-21-2ed0ce384d00>:13: FutureWarning: The frame.append method is deprecated and will be removed from pandas in a future version. Use pandas.concat instead.\n",
            "  results_df = results_df.append({'Model': type(model).__name__,\n"
          ]
        }
      ]
    },
    {
      "cell_type": "code",
      "source": [
        "# Encode input\n",
        "X_encoded = X.copy()\n",
        "for feature in categorical_columns:\n",
        "  label_encoder = LabelEncoder()\n",
        "  X_encoded[feature] = label_encoder.fit_transform(X_encoded[feature])\n",
        "\n",
        "X_train_encoded, X_test_encoded, y_train, y_test = train_test_split(X_encoded, y, test_size=0.2, random_state=42)\n",
        "\n",
        "for model in models_with_categorical:\n",
        "        # Fit the model\n",
        "        model.fit(X_train_encoded.fillna(X_encoded.mean()), y_train)\n",
        "\n",
        "        # Predict on the test set\n",
        "        y_pred = model.predict(X_test_encoded.fillna(X_encoded.mean()))\n",
        "\n",
        "        # Calculate metrics\n",
        "        mse = mean_squared_error(y_test, y_pred)\n",
        "        r2 = r2_score(y_test, y_pred)\n",
        "\n",
        "        # Append results to the dataframe\n",
        "        results_df = results_df.append({'Model': type(model).__name__,\n",
        "                                        'MSE': mse,\n",
        "                                        'R2_Score': r2},\n",
        "                                       ignore_index=True)"
      ],
      "metadata": {
        "colab": {
          "base_uri": "https://localhost:8080/"
        },
        "id": "LFgwCJlJnWCy",
        "outputId": "a572c588-762d-49da-c77c-900e911f81e1"
      },
      "execution_count": 22,
      "outputs": [
        {
          "output_type": "stream",
          "name": "stderr",
          "text": [
            "<ipython-input-22-ca2caa6a49ea>:21: FutureWarning: The frame.append method is deprecated and will be removed from pandas in a future version. Use pandas.concat instead.\n",
            "  results_df = results_df.append({'Model': type(model).__name__,\n",
            "<ipython-input-22-ca2caa6a49ea>:21: FutureWarning: The frame.append method is deprecated and will be removed from pandas in a future version. Use pandas.concat instead.\n",
            "  results_df = results_df.append({'Model': type(model).__name__,\n",
            "<ipython-input-22-ca2caa6a49ea>:21: FutureWarning: The frame.append method is deprecated and will be removed from pandas in a future version. Use pandas.concat instead.\n",
            "  results_df = results_df.append({'Model': type(model).__name__,\n",
            "<ipython-input-22-ca2caa6a49ea>:21: FutureWarning: The frame.append method is deprecated and will be removed from pandas in a future version. Use pandas.concat instead.\n",
            "  results_df = results_df.append({'Model': type(model).__name__,\n",
            "<ipython-input-22-ca2caa6a49ea>:21: FutureWarning: The frame.append method is deprecated and will be removed from pandas in a future version. Use pandas.concat instead.\n",
            "  results_df = results_df.append({'Model': type(model).__name__,\n"
          ]
        },
        {
          "output_type": "stream",
          "name": "stdout",
          "text": [
            "0:\tlearn: 1011.5071991\ttotal: 34.2ms\tremaining: 34.2s\n",
            "100:\tlearn: 647.1104768\ttotal: 1.95s\tremaining: 17.3s\n",
            "200:\tlearn: 580.1304837\ttotal: 4.78s\tremaining: 19s\n",
            "300:\tlearn: 541.1477024\ttotal: 7.07s\tremaining: 16.4s\n",
            "400:\tlearn: 515.7909820\ttotal: 8.36s\tremaining: 12.5s\n",
            "500:\tlearn: 491.9502202\ttotal: 9.65s\tremaining: 9.61s\n",
            "600:\tlearn: 469.8406531\ttotal: 11s\tremaining: 7.29s\n",
            "700:\tlearn: 450.5345948\ttotal: 12.3s\tremaining: 5.25s\n",
            "800:\tlearn: 434.3949814\ttotal: 13.6s\tremaining: 3.39s\n",
            "900:\tlearn: 417.2492435\ttotal: 15s\tremaining: 1.65s\n",
            "999:\tlearn: 402.8538682\ttotal: 16.3s\tremaining: 0us\n"
          ]
        },
        {
          "output_type": "stream",
          "name": "stderr",
          "text": [
            "<ipython-input-22-ca2caa6a49ea>:21: FutureWarning: The frame.append method is deprecated and will be removed from pandas in a future version. Use pandas.concat instead.\n",
            "  results_df = results_df.append({'Model': type(model).__name__,\n"
          ]
        }
      ]
    },
    {
      "cell_type": "code",
      "source": [
        "# Display the results dataframe\n",
        "results_df"
      ],
      "metadata": {
        "colab": {
          "base_uri": "https://localhost:8080/",
          "height": 376
        },
        "id": "cso9XopWm9jM",
        "outputId": "ffa3d75d-d98e-4fc9-d286-c9178771e43b"
      },
      "execution_count": 23,
      "outputs": [
        {
          "output_type": "execute_result",
          "data": {
            "text/plain": [
              "                       Model           MSE  R2_Score\n",
              "0           LinearRegression  7.547920e+05  0.316503\n",
              "1                      Ridge  7.549477e+05  0.316362\n",
              "2                      Lasso  7.562183e+05  0.315212\n",
              "3        KNeighborsRegressor  8.592289e+05  0.221931\n",
              "4      DecisionTreeRegressor  7.175236e+05  0.350251\n",
              "5      RandomForestRegressor  5.123438e+05  0.536051\n",
              "6  GradientBoostingRegressor  5.038811e+05  0.543714\n",
              "7               XGBRegressor  4.015732e+05  0.636358\n",
              "8                        SVR  1.032810e+06  0.064746\n",
              "9          CatBoostRegressor  3.736828e+05  0.661614"
            ],
            "text/html": [
              "\n",
              "  <div id=\"df-525b6b3c-4d7b-40e3-86f8-48030a253ff6\" class=\"colab-df-container\">\n",
              "    <div>\n",
              "<style scoped>\n",
              "    .dataframe tbody tr th:only-of-type {\n",
              "        vertical-align: middle;\n",
              "    }\n",
              "\n",
              "    .dataframe tbody tr th {\n",
              "        vertical-align: top;\n",
              "    }\n",
              "\n",
              "    .dataframe thead th {\n",
              "        text-align: right;\n",
              "    }\n",
              "</style>\n",
              "<table border=\"1\" class=\"dataframe\">\n",
              "  <thead>\n",
              "    <tr style=\"text-align: right;\">\n",
              "      <th></th>\n",
              "      <th>Model</th>\n",
              "      <th>MSE</th>\n",
              "      <th>R2_Score</th>\n",
              "    </tr>\n",
              "  </thead>\n",
              "  <tbody>\n",
              "    <tr>\n",
              "      <th>0</th>\n",
              "      <td>LinearRegression</td>\n",
              "      <td>7.547920e+05</td>\n",
              "      <td>0.316503</td>\n",
              "    </tr>\n",
              "    <tr>\n",
              "      <th>1</th>\n",
              "      <td>Ridge</td>\n",
              "      <td>7.549477e+05</td>\n",
              "      <td>0.316362</td>\n",
              "    </tr>\n",
              "    <tr>\n",
              "      <th>2</th>\n",
              "      <td>Lasso</td>\n",
              "      <td>7.562183e+05</td>\n",
              "      <td>0.315212</td>\n",
              "    </tr>\n",
              "    <tr>\n",
              "      <th>3</th>\n",
              "      <td>KNeighborsRegressor</td>\n",
              "      <td>8.592289e+05</td>\n",
              "      <td>0.221931</td>\n",
              "    </tr>\n",
              "    <tr>\n",
              "      <th>4</th>\n",
              "      <td>DecisionTreeRegressor</td>\n",
              "      <td>7.175236e+05</td>\n",
              "      <td>0.350251</td>\n",
              "    </tr>\n",
              "    <tr>\n",
              "      <th>5</th>\n",
              "      <td>RandomForestRegressor</td>\n",
              "      <td>5.123438e+05</td>\n",
              "      <td>0.536051</td>\n",
              "    </tr>\n",
              "    <tr>\n",
              "      <th>6</th>\n",
              "      <td>GradientBoostingRegressor</td>\n",
              "      <td>5.038811e+05</td>\n",
              "      <td>0.543714</td>\n",
              "    </tr>\n",
              "    <tr>\n",
              "      <th>7</th>\n",
              "      <td>XGBRegressor</td>\n",
              "      <td>4.015732e+05</td>\n",
              "      <td>0.636358</td>\n",
              "    </tr>\n",
              "    <tr>\n",
              "      <th>8</th>\n",
              "      <td>SVR</td>\n",
              "      <td>1.032810e+06</td>\n",
              "      <td>0.064746</td>\n",
              "    </tr>\n",
              "    <tr>\n",
              "      <th>9</th>\n",
              "      <td>CatBoostRegressor</td>\n",
              "      <td>3.736828e+05</td>\n",
              "      <td>0.661614</td>\n",
              "    </tr>\n",
              "  </tbody>\n",
              "</table>\n",
              "</div>\n",
              "    <div class=\"colab-df-buttons\">\n",
              "\n",
              "  <div class=\"colab-df-container\">\n",
              "    <button class=\"colab-df-convert\" onclick=\"convertToInteractive('df-525b6b3c-4d7b-40e3-86f8-48030a253ff6')\"\n",
              "            title=\"Convert this dataframe to an interactive table.\"\n",
              "            style=\"display:none;\">\n",
              "\n",
              "  <svg xmlns=\"http://www.w3.org/2000/svg\" height=\"24px\" viewBox=\"0 -960 960 960\">\n",
              "    <path d=\"M120-120v-720h720v720H120Zm60-500h600v-160H180v160Zm220 220h160v-160H400v160Zm0 220h160v-160H400v160ZM180-400h160v-160H180v160Zm440 0h160v-160H620v160ZM180-180h160v-160H180v160Zm440 0h160v-160H620v160Z\"/>\n",
              "  </svg>\n",
              "    </button>\n",
              "\n",
              "  <style>\n",
              "    .colab-df-container {\n",
              "      display:flex;\n",
              "      gap: 12px;\n",
              "    }\n",
              "\n",
              "    .colab-df-convert {\n",
              "      background-color: #E8F0FE;\n",
              "      border: none;\n",
              "      border-radius: 50%;\n",
              "      cursor: pointer;\n",
              "      display: none;\n",
              "      fill: #1967D2;\n",
              "      height: 32px;\n",
              "      padding: 0 0 0 0;\n",
              "      width: 32px;\n",
              "    }\n",
              "\n",
              "    .colab-df-convert:hover {\n",
              "      background-color: #E2EBFA;\n",
              "      box-shadow: 0px 1px 2px rgba(60, 64, 67, 0.3), 0px 1px 3px 1px rgba(60, 64, 67, 0.15);\n",
              "      fill: #174EA6;\n",
              "    }\n",
              "\n",
              "    .colab-df-buttons div {\n",
              "      margin-bottom: 4px;\n",
              "    }\n",
              "\n",
              "    [theme=dark] .colab-df-convert {\n",
              "      background-color: #3B4455;\n",
              "      fill: #D2E3FC;\n",
              "    }\n",
              "\n",
              "    [theme=dark] .colab-df-convert:hover {\n",
              "      background-color: #434B5C;\n",
              "      box-shadow: 0px 1px 3px 1px rgba(0, 0, 0, 0.15);\n",
              "      filter: drop-shadow(0px 1px 2px rgba(0, 0, 0, 0.3));\n",
              "      fill: #FFFFFF;\n",
              "    }\n",
              "  </style>\n",
              "\n",
              "    <script>\n",
              "      const buttonEl =\n",
              "        document.querySelector('#df-525b6b3c-4d7b-40e3-86f8-48030a253ff6 button.colab-df-convert');\n",
              "      buttonEl.style.display =\n",
              "        google.colab.kernel.accessAllowed ? 'block' : 'none';\n",
              "\n",
              "      async function convertToInteractive(key) {\n",
              "        const element = document.querySelector('#df-525b6b3c-4d7b-40e3-86f8-48030a253ff6');\n",
              "        const dataTable =\n",
              "          await google.colab.kernel.invokeFunction('convertToInteractive',\n",
              "                                                    [key], {});\n",
              "        if (!dataTable) return;\n",
              "\n",
              "        const docLinkHtml = 'Like what you see? Visit the ' +\n",
              "          '<a target=\"_blank\" href=https://colab.research.google.com/notebooks/data_table.ipynb>data table notebook</a>'\n",
              "          + ' to learn more about interactive tables.';\n",
              "        element.innerHTML = '';\n",
              "        dataTable['output_type'] = 'display_data';\n",
              "        await google.colab.output.renderOutput(dataTable, element);\n",
              "        const docLink = document.createElement('div');\n",
              "        docLink.innerHTML = docLinkHtml;\n",
              "        element.appendChild(docLink);\n",
              "      }\n",
              "    </script>\n",
              "  </div>\n",
              "\n",
              "\n",
              "<div id=\"df-dbe1f880-bac2-4b3f-b4b9-d2d4b05c2f9e\">\n",
              "  <button class=\"colab-df-quickchart\" onclick=\"quickchart('df-dbe1f880-bac2-4b3f-b4b9-d2d4b05c2f9e')\"\n",
              "            title=\"Suggest charts\"\n",
              "            style=\"display:none;\">\n",
              "\n",
              "<svg xmlns=\"http://www.w3.org/2000/svg\" height=\"24px\"viewBox=\"0 0 24 24\"\n",
              "     width=\"24px\">\n",
              "    <g>\n",
              "        <path d=\"M19 3H5c-1.1 0-2 .9-2 2v14c0 1.1.9 2 2 2h14c1.1 0 2-.9 2-2V5c0-1.1-.9-2-2-2zM9 17H7v-7h2v7zm4 0h-2V7h2v10zm4 0h-2v-4h2v4z\"/>\n",
              "    </g>\n",
              "</svg>\n",
              "  </button>\n",
              "\n",
              "<style>\n",
              "  .colab-df-quickchart {\n",
              "      --bg-color: #E8F0FE;\n",
              "      --fill-color: #1967D2;\n",
              "      --hover-bg-color: #E2EBFA;\n",
              "      --hover-fill-color: #174EA6;\n",
              "      --disabled-fill-color: #AAA;\n",
              "      --disabled-bg-color: #DDD;\n",
              "  }\n",
              "\n",
              "  [theme=dark] .colab-df-quickchart {\n",
              "      --bg-color: #3B4455;\n",
              "      --fill-color: #D2E3FC;\n",
              "      --hover-bg-color: #434B5C;\n",
              "      --hover-fill-color: #FFFFFF;\n",
              "      --disabled-bg-color: #3B4455;\n",
              "      --disabled-fill-color: #666;\n",
              "  }\n",
              "\n",
              "  .colab-df-quickchart {\n",
              "    background-color: var(--bg-color);\n",
              "    border: none;\n",
              "    border-radius: 50%;\n",
              "    cursor: pointer;\n",
              "    display: none;\n",
              "    fill: var(--fill-color);\n",
              "    height: 32px;\n",
              "    padding: 0;\n",
              "    width: 32px;\n",
              "  }\n",
              "\n",
              "  .colab-df-quickchart:hover {\n",
              "    background-color: var(--hover-bg-color);\n",
              "    box-shadow: 0 1px 2px rgba(60, 64, 67, 0.3), 0 1px 3px 1px rgba(60, 64, 67, 0.15);\n",
              "    fill: var(--button-hover-fill-color);\n",
              "  }\n",
              "\n",
              "  .colab-df-quickchart-complete:disabled,\n",
              "  .colab-df-quickchart-complete:disabled:hover {\n",
              "    background-color: var(--disabled-bg-color);\n",
              "    fill: var(--disabled-fill-color);\n",
              "    box-shadow: none;\n",
              "  }\n",
              "\n",
              "  .colab-df-spinner {\n",
              "    border: 2px solid var(--fill-color);\n",
              "    border-color: transparent;\n",
              "    border-bottom-color: var(--fill-color);\n",
              "    animation:\n",
              "      spin 1s steps(1) infinite;\n",
              "  }\n",
              "\n",
              "  @keyframes spin {\n",
              "    0% {\n",
              "      border-color: transparent;\n",
              "      border-bottom-color: var(--fill-color);\n",
              "      border-left-color: var(--fill-color);\n",
              "    }\n",
              "    20% {\n",
              "      border-color: transparent;\n",
              "      border-left-color: var(--fill-color);\n",
              "      border-top-color: var(--fill-color);\n",
              "    }\n",
              "    30% {\n",
              "      border-color: transparent;\n",
              "      border-left-color: var(--fill-color);\n",
              "      border-top-color: var(--fill-color);\n",
              "      border-right-color: var(--fill-color);\n",
              "    }\n",
              "    40% {\n",
              "      border-color: transparent;\n",
              "      border-right-color: var(--fill-color);\n",
              "      border-top-color: var(--fill-color);\n",
              "    }\n",
              "    60% {\n",
              "      border-color: transparent;\n",
              "      border-right-color: var(--fill-color);\n",
              "    }\n",
              "    80% {\n",
              "      border-color: transparent;\n",
              "      border-right-color: var(--fill-color);\n",
              "      border-bottom-color: var(--fill-color);\n",
              "    }\n",
              "    90% {\n",
              "      border-color: transparent;\n",
              "      border-bottom-color: var(--fill-color);\n",
              "    }\n",
              "  }\n",
              "</style>\n",
              "\n",
              "  <script>\n",
              "    async function quickchart(key) {\n",
              "      const quickchartButtonEl =\n",
              "        document.querySelector('#' + key + ' button');\n",
              "      quickchartButtonEl.disabled = true;  // To prevent multiple clicks.\n",
              "      quickchartButtonEl.classList.add('colab-df-spinner');\n",
              "      try {\n",
              "        const charts = await google.colab.kernel.invokeFunction(\n",
              "            'suggestCharts', [key], {});\n",
              "      } catch (error) {\n",
              "        console.error('Error during call to suggestCharts:', error);\n",
              "      }\n",
              "      quickchartButtonEl.classList.remove('colab-df-spinner');\n",
              "      quickchartButtonEl.classList.add('colab-df-quickchart-complete');\n",
              "    }\n",
              "    (() => {\n",
              "      let quickchartButtonEl =\n",
              "        document.querySelector('#df-dbe1f880-bac2-4b3f-b4b9-d2d4b05c2f9e button');\n",
              "      quickchartButtonEl.style.display =\n",
              "        google.colab.kernel.accessAllowed ? 'block' : 'none';\n",
              "    })();\n",
              "  </script>\n",
              "</div>\n",
              "\n",
              "  <div id=\"id_9da1c78f-b900-491c-a538-fc5725f2d0a2\">\n",
              "    <style>\n",
              "      .colab-df-generate {\n",
              "        background-color: #E8F0FE;\n",
              "        border: none;\n",
              "        border-radius: 50%;\n",
              "        cursor: pointer;\n",
              "        display: none;\n",
              "        fill: #1967D2;\n",
              "        height: 32px;\n",
              "        padding: 0 0 0 0;\n",
              "        width: 32px;\n",
              "      }\n",
              "\n",
              "      .colab-df-generate:hover {\n",
              "        background-color: #E2EBFA;\n",
              "        box-shadow: 0px 1px 2px rgba(60, 64, 67, 0.3), 0px 1px 3px 1px rgba(60, 64, 67, 0.15);\n",
              "        fill: #174EA6;\n",
              "      }\n",
              "\n",
              "      [theme=dark] .colab-df-generate {\n",
              "        background-color: #3B4455;\n",
              "        fill: #D2E3FC;\n",
              "      }\n",
              "\n",
              "      [theme=dark] .colab-df-generate:hover {\n",
              "        background-color: #434B5C;\n",
              "        box-shadow: 0px 1px 3px 1px rgba(0, 0, 0, 0.15);\n",
              "        filter: drop-shadow(0px 1px 2px rgba(0, 0, 0, 0.3));\n",
              "        fill: #FFFFFF;\n",
              "      }\n",
              "    </style>\n",
              "    <button class=\"colab-df-generate\" onclick=\"generateWithVariable('results_df')\"\n",
              "            title=\"Generate code using this dataframe.\"\n",
              "            style=\"display:none;\">\n",
              "\n",
              "  <svg xmlns=\"http://www.w3.org/2000/svg\" height=\"24px\"viewBox=\"0 0 24 24\"\n",
              "       width=\"24px\">\n",
              "    <path d=\"M7,19H8.4L18.45,9,17,7.55,7,17.6ZM5,21V16.75L18.45,3.32a2,2,0,0,1,2.83,0l1.4,1.43a1.91,1.91,0,0,1,.58,1.4,1.91,1.91,0,0,1-.58,1.4L9.25,21ZM18.45,9,17,7.55Zm-12,3A5.31,5.31,0,0,0,4.9,8.1,5.31,5.31,0,0,0,1,6.5,5.31,5.31,0,0,0,4.9,4.9,5.31,5.31,0,0,0,6.5,1,5.31,5.31,0,0,0,8.1,4.9,5.31,5.31,0,0,0,12,6.5,5.46,5.46,0,0,0,6.5,12Z\"/>\n",
              "  </svg>\n",
              "    </button>\n",
              "    <script>\n",
              "      (() => {\n",
              "      const buttonEl =\n",
              "        document.querySelector('#id_9da1c78f-b900-491c-a538-fc5725f2d0a2 button.colab-df-generate');\n",
              "      buttonEl.style.display =\n",
              "        google.colab.kernel.accessAllowed ? 'block' : 'none';\n",
              "\n",
              "      buttonEl.onclick = () => {\n",
              "        google.colab.notebook.generateWithVariable('results_df');\n",
              "      }\n",
              "      })();\n",
              "    </script>\n",
              "  </div>\n",
              "\n",
              "    </div>\n",
              "  </div>\n"
            ]
          },
          "metadata": {},
          "execution_count": 23
        }
      ]
    },
    {
      "cell_type": "code",
      "source": [
        "model = CatBoostRegressor(iterations=1000,  # Specify the number of boosting iterations\n",
        "                          learning_rate=0.1,  # Learning rate\n",
        "                          depth = 8,\n",
        "                          verbose=100,  # Print progress every 100 iterations\n",
        "                          random_seed=42,\n",
        "                          cat_features=categorical_column_indices)\n",
        "\n",
        "model.fit(X_train, y_train)"
      ],
      "metadata": {
        "id": "YgHiu0cy46rK",
        "colab": {
          "base_uri": "https://localhost:8080/"
        },
        "outputId": "251e3d55-6589-4810-c8fc-f09ce958deeb"
      },
      "execution_count": 24,
      "outputs": [
        {
          "output_type": "stream",
          "name": "stdout",
          "text": [
            "0:\tlearn: 1009.0937461\ttotal: 23.1ms\tremaining: 23s\n",
            "100:\tlearn: 627.8179233\ttotal: 3.85s\tremaining: 34.3s\n",
            "200:\tlearn: 550.9854048\ttotal: 6.73s\tremaining: 26.8s\n",
            "300:\tlearn: 509.2550697\ttotal: 8.63s\tremaining: 20.1s\n",
            "400:\tlearn: 469.4802093\ttotal: 10.6s\tremaining: 15.8s\n",
            "500:\tlearn: 437.5293502\ttotal: 12.6s\tremaining: 12.6s\n",
            "600:\tlearn: 409.5668842\ttotal: 14.6s\tremaining: 9.68s\n",
            "700:\tlearn: 385.2425753\ttotal: 17.6s\tremaining: 7.5s\n",
            "800:\tlearn: 364.6206423\ttotal: 21.3s\tremaining: 5.3s\n",
            "900:\tlearn: 346.6091419\ttotal: 23.3s\tremaining: 2.56s\n",
            "999:\tlearn: 328.6806683\ttotal: 25.3s\tremaining: 0us\n"
          ]
        },
        {
          "output_type": "execute_result",
          "data": {
            "text/plain": [
              "<catboost.core.CatBoostRegressor at 0x7e021b9d3100>"
            ]
          },
          "metadata": {},
          "execution_count": 24
        }
      ]
    },
    {
      "cell_type": "code",
      "source": [
        "y_pred = model.predict(X_test)\n",
        "\n",
        "r2_score(y_test, y_pred)"
      ],
      "metadata": {
        "colab": {
          "base_uri": "https://localhost:8080/"
        },
        "id": "6qXaG4bGqZwo",
        "outputId": "8cba5335-1c58-4609-9fee-7b7534270dc3"
      },
      "execution_count": 25,
      "outputs": [
        {
          "output_type": "execute_result",
          "data": {
            "text/plain": [
              "0.6580297716087837"
            ]
          },
          "metadata": {},
          "execution_count": 25
        }
      ]
    },
    {
      "cell_type": "code",
      "source": [
        "# Get feature importances\n",
        "feature_importance = model.get_feature_importance()\n",
        "\n",
        "# Get feature names\n",
        "feature_names = X_train.columns  # Replace with the actual column names of your features\n",
        "\n",
        "# Create a dictionary to store feature names and their corresponding importance scores\n",
        "feature_importance_dict = dict(zip(feature_names, feature_importance))\n",
        "\n",
        "# Sort feature importances and select the top 10\n",
        "top_features = sorted(feature_importance_dict.items(), key=lambda x: x[1], reverse=True)[:10]\n",
        "\n",
        "# Print the top 10 most important features\n",
        "print(\"Top 10 Most Important Features:\")\n",
        "for feature, importance in top_features:\n",
        "    print(f\"{feature}: {importance}\")\n",
        "\n",
        "# Plot only the top 10 feature importances in descending order\n",
        "top_feature_names, top_feature_importance = zip(*top_features)\n",
        "\n",
        "plt.barh(top_feature_names[::-1], top_feature_importance[::-1])  # Reverse the order for descending plot\n",
        "plt.xlabel('Feature Importance Score')\n",
        "plt.ylabel('Features')\n",
        "plt.title('Top 10 Most Important Features')\n",
        "plt.show()"
      ],
      "metadata": {
        "colab": {
          "base_uri": "https://localhost:8080/",
          "height": 685
        },
        "id": "MNmU5keJqrIP",
        "outputId": "1dec25f3-6997-4aec-c851-00af899c1523"
      },
      "execution_count": 26,
      "outputs": [
        {
          "output_type": "stream",
          "name": "stdout",
          "text": [
            "Top 10 Most Important Features:\n",
            "ad_size: 22.57371131572302\n",
            "ad_latitude: 21.001757991234218\n",
            "ad_longitude: 19.746700435754814\n",
            "ad_area_name: 11.374525450396023\n",
            "ad_params_direction_value: 4.120348469246567\n",
            "ad_params_balconydirection_value: 3.9679990799937364\n",
            "ad_params_furnishing_sell_value: 3.661227825012887\n",
            "ad_floornumber: 3.2586819992724845\n",
            "ad_params_property_legal_document_value: 3.164986156807651\n",
            "ad_rooms: 2.34774828509995\n"
          ]
        },
        {
          "output_type": "display_data",
          "data": {
            "text/plain": [
              "<Figure size 640x480 with 1 Axes>"
            ],
            "image/png": "[encoded data removed]"
          },
          "metadata": {}
        }
      ]
    },
    {
      "cell_type": "markdown",
      "source": [
        "## Randomly select 4000, 5000, 6000 samples from the dataset"
      ],
      "metadata": {
        "id": "9ah3CabGOQJ2"
      }
    },
    {
      "cell_type": "markdown",
      "source": [
        "### 2000 samples"
      ],
      "metadata": {
        "id": "Es6PLCu1O34Q"
      }
    },
    {
      "cell_type": "code",
      "source": [
        "def training(df):\n",
        "\n",
        "    # Separate the features (X) and the target (y)\n",
        "    X = df.drop(columns=['ad_price'])\n",
        "    y = df['ad_price']\n",
        "\n",
        "    # Split the data into a test subset (smaller portion) and a training subset (larger portion)\n",
        "    X_train, X_test, y_train, y_test = train_test_split(X, y, test_size=0.2, random_state=42)\n",
        "    numerical_columns = X.select_dtypes(exclude = 'object').columns\n",
        "    categorical_columns = X_train.select_dtypes(include = 'object').columns\n",
        "    categorical_column_indices = [X_train.columns.get_loc(col) for col in categorical_columns]\n",
        "\n",
        "    # Convert NaN values to strings in the specified categorical columns\n",
        "    for col_index in categorical_column_indices:\n",
        "        X_train.iloc[:, col_index] = X_train.iloc[:, col_index].astype(str).fillna('NaN')\n",
        "        X_test.iloc[:, col_index] = X_test.iloc[:, col_index].astype(str).fillna('NaN')\n",
        "\n",
        "    # Initialize an empty dataframe to store results\n",
        "    results_df = pd.DataFrame(columns=['Model', 'MSE', 'R2_Score'])\n",
        "\n",
        "    # Additional regressors for models_with_categorical\n",
        "    models_with_categorical = [\n",
        "        DecisionTreeRegressor(),\n",
        "        RandomForestRegressor(max_depth=7, random_state=42),\n",
        "        GradientBoostingRegressor(),\n",
        "        XGBRegressor(learning_rate=0.2, max_depth=5, random_state=42),\n",
        "        SVR(),\n",
        "        CatBoostRegressor(iterations=1000,  # Specify the number of boosting iterations\n",
        "                          learning_rate=0.1,  # Learning rate\n",
        "                          depth = 7,\n",
        "                          verbose=100,  # Print progress every 100 iterations\n",
        "                          random_seed=42,\n",
        "                          cat_features=categorical_column_indices)\n",
        "    ]\n",
        "\n",
        "    # Additional regressors for models_without_categorical\n",
        "    models_without_categorical = [\n",
        "        LinearRegression(),\n",
        "        Ridge(),\n",
        "        Lasso(),\n",
        "        KNeighborsRegressor()\n",
        "    ]\n",
        "    for model in models_without_categorical:\n",
        "            # Fit the model\n",
        "            model.fit(X_train[numerical_columns].fillna(X[numerical_columns].mean()), y_train)\n",
        "\n",
        "            # Predict on the test set\n",
        "            y_pred = model.predict(X_test[numerical_columns].fillna(X[numerical_columns].mean()))\n",
        "\n",
        "            # Calculate metrics\n",
        "            mse = mean_squared_error(y_test, y_pred)\n",
        "            r2 = r2_score(y_test, y_pred)\n",
        "\n",
        "            # Append results to the dataframe\n",
        "            results_df = results_df.append({'Model': type(model).__name__,\n",
        "                                            'MSE': mse,\n",
        "                                            'R2_Score': r2},\n",
        "                                          ignore_index=True)\n",
        "    # Encode input\n",
        "    X_encoded = X.copy()\n",
        "    for feature in categorical_columns:\n",
        "      label_encoder = LabelEncoder()\n",
        "      X_encoded[feature] = label_encoder.fit_transform(X_encoded[feature])\n",
        "\n",
        "    X_train_encoded, X_test_encoded, y_train, y_test = train_test_split(X_encoded, y, test_size=0.2, random_state=42)\n",
        "\n",
        "    for model in models_with_categorical:\n",
        "            # Fit the model\n",
        "            model.fit(X_train_encoded.fillna(X_encoded.mean()), y_train)\n",
        "\n",
        "            # Predict on the test set\n",
        "            y_pred = model.predict(X_test_encoded.fillna(X_encoded.mean()))\n",
        "\n",
        "            # Calculate metrics\n",
        "            mse = mean_squared_error(y_test, y_pred)\n",
        "            r2 = r2_score(y_test, y_pred)\n",
        "\n",
        "            # Append results to the dataframe\n",
        "            results_df = results_df.append({'Model': type(model).__name__,\n",
        "                                            'MSE': mse,\n",
        "                                            'R2_Score': r2},\n",
        "                                          ignore_index=True)\n",
        "    # Display the results dataframe\n",
        "    print(results_df)"
      ],
      "metadata": {
        "id": "jtAf9ekyO_lz"
      },
      "execution_count": 27,
      "outputs": []
    },
    {
      "cell_type": "code",
      "source": [
        "df_2000 = df2.sample(2000)"
      ],
      "metadata": {
        "id": "DHhkFayQOR_F"
      },
      "execution_count": 28,
      "outputs": []
    },
    {
      "cell_type": "code",
      "source": [
        "training(df_2000)"
      ],
      "metadata": {
        "colab": {
          "base_uri": "https://localhost:8080/"
        },
        "id": "7kCIFpf-OtaP",
        "outputId": "af09246c-301e-44c4-892d-6c262a846f40"
      },
      "execution_count": 29,
      "outputs": [
        {
          "output_type": "stream",
          "name": "stderr",
          "text": [
            "<ipython-input-27-e4fd8e2ebc6e>:55: FutureWarning: The frame.append method is deprecated and will be removed from pandas in a future version. Use pandas.concat instead.\n",
            "  results_df = results_df.append({'Model': type(model).__name__,\n",
            "<ipython-input-27-e4fd8e2ebc6e>:55: FutureWarning: The frame.append method is deprecated and will be removed from pandas in a future version. Use pandas.concat instead.\n",
            "  results_df = results_df.append({'Model': type(model).__name__,\n",
            "<ipython-input-27-e4fd8e2ebc6e>:55: FutureWarning: The frame.append method is deprecated and will be removed from pandas in a future version. Use pandas.concat instead.\n",
            "  results_df = results_df.append({'Model': type(model).__name__,\n",
            "<ipython-input-27-e4fd8e2ebc6e>:55: FutureWarning: The frame.append method is deprecated and will be removed from pandas in a future version. Use pandas.concat instead.\n",
            "  results_df = results_df.append({'Model': type(model).__name__,\n",
            "<ipython-input-27-e4fd8e2ebc6e>:79: FutureWarning: The frame.append method is deprecated and will be removed from pandas in a future version. Use pandas.concat instead.\n",
            "  results_df = results_df.append({'Model': type(model).__name__,\n",
            "<ipython-input-27-e4fd8e2ebc6e>:79: FutureWarning: The frame.append method is deprecated and will be removed from pandas in a future version. Use pandas.concat instead.\n",
            "  results_df = results_df.append({'Model': type(model).__name__,\n",
            "<ipython-input-27-e4fd8e2ebc6e>:79: FutureWarning: The frame.append method is deprecated and will be removed from pandas in a future version. Use pandas.concat instead.\n",
            "  results_df = results_df.append({'Model': type(model).__name__,\n",
            "<ipython-input-27-e4fd8e2ebc6e>:79: FutureWarning: The frame.append method is deprecated and will be removed from pandas in a future version. Use pandas.concat instead.\n",
            "  results_df = results_df.append({'Model': type(model).__name__,\n",
            "<ipython-input-27-e4fd8e2ebc6e>:79: FutureWarning: The frame.append method is deprecated and will be removed from pandas in a future version. Use pandas.concat instead.\n",
            "  results_df = results_df.append({'Model': type(model).__name__,\n"
          ]
        },
        {
          "output_type": "stream",
          "name": "stdout",
          "text": [
            "0:\tlearn: 1054.3493501\ttotal: 7.42ms\tremaining: 7.41s\n",
            "100:\tlearn: 650.2168650\ttotal: 683ms\tremaining: 6.08s\n",
            "200:\tlearn: 521.9308261\ttotal: 1.41s\tremaining: 5.62s\n",
            "300:\tlearn: 445.7968256\ttotal: 2.71s\tremaining: 6.3s\n",
            "400:\tlearn: 390.1589799\ttotal: 3.98s\tremaining: 5.95s\n",
            "500:\tlearn: 337.3382625\ttotal: 5.47s\tremaining: 5.45s\n",
            "600:\tlearn: 295.0404591\ttotal: 6.98s\tremaining: 4.63s\n",
            "700:\tlearn: 263.0338396\ttotal: 8.48s\tremaining: 3.62s\n",
            "800:\tlearn: 234.6475982\ttotal: 9.66s\tremaining: 2.4s\n",
            "900:\tlearn: 211.1585192\ttotal: 10.4s\tremaining: 1.14s\n",
            "999:\tlearn: 191.3086034\ttotal: 11.1s\tremaining: 0us\n",
            "                       Model            MSE  R2_Score\n",
            "0           LinearRegression  711453.722256  0.269966\n",
            "1                      Ridge  709704.316045  0.271761\n",
            "2                      Lasso  709474.258025  0.271997\n",
            "3        KNeighborsRegressor  859936.325222  0.117605\n",
            "4      DecisionTreeRegressor  951103.678772  0.024057\n",
            "5      RandomForestRegressor  515886.171554  0.470641\n",
            "6  GradientBoostingRegressor  533659.376868  0.452403\n",
            "7               XGBRegressor  464571.596785  0.523296\n",
            "8                        SVR  956313.279161  0.018711\n",
            "9          CatBoostRegressor  481655.111461  0.505766\n"
          ]
        },
        {
          "output_type": "stream",
          "name": "stderr",
          "text": [
            "<ipython-input-27-e4fd8e2ebc6e>:79: FutureWarning: The frame.append method is deprecated and will be removed from pandas in a future version. Use pandas.concat instead.\n",
            "  results_df = results_df.append({'Model': type(model).__name__,\n"
          ]
        }
      ]
    },
    {
      "cell_type": "markdown",
      "source": [
        "### 5000 samples"
      ],
      "metadata": {
        "id": "4vZeg_0iP2ZS"
      }
    },
    {
      "cell_type": "code",
      "source": [
        "df_5000 = df2.sample(5000)"
      ],
      "metadata": {
        "id": "_iXy0JyqPxYs"
      },
      "execution_count": 39,
      "outputs": []
    },
    {
      "cell_type": "code",
      "source": [
        "training(df_5000)"
      ],
      "metadata": {
        "colab": {
          "base_uri": "https://localhost:8080/"
        },
        "id": "YWUxZvSMPxYz",
        "outputId": "00312a90-b975-4e47-ce1d-16cf2e10d002"
      },
      "execution_count": 40,
      "outputs": [
        {
          "output_type": "stream",
          "name": "stderr",
          "text": [
            "<ipython-input-27-e4fd8e2ebc6e>:55: FutureWarning: The frame.append method is deprecated and will be removed from pandas in a future version. Use pandas.concat instead.\n",
            "  results_df = results_df.append({'Model': type(model).__name__,\n",
            "<ipython-input-27-e4fd8e2ebc6e>:55: FutureWarning: The frame.append method is deprecated and will be removed from pandas in a future version. Use pandas.concat instead.\n",
            "  results_df = results_df.append({'Model': type(model).__name__,\n",
            "<ipython-input-27-e4fd8e2ebc6e>:55: FutureWarning: The frame.append method is deprecated and will be removed from pandas in a future version. Use pandas.concat instead.\n",
            "  results_df = results_df.append({'Model': type(model).__name__,\n",
            "<ipython-input-27-e4fd8e2ebc6e>:55: FutureWarning: The frame.append method is deprecated and will be removed from pandas in a future version. Use pandas.concat instead.\n",
            "  results_df = results_df.append({'Model': type(model).__name__,\n",
            "<ipython-input-27-e4fd8e2ebc6e>:79: FutureWarning: The frame.append method is deprecated and will be removed from pandas in a future version. Use pandas.concat instead.\n",
            "  results_df = results_df.append({'Model': type(model).__name__,\n",
            "<ipython-input-27-e4fd8e2ebc6e>:79: FutureWarning: The frame.append method is deprecated and will be removed from pandas in a future version. Use pandas.concat instead.\n",
            "  results_df = results_df.append({'Model': type(model).__name__,\n",
            "<ipython-input-27-e4fd8e2ebc6e>:79: FutureWarning: The frame.append method is deprecated and will be removed from pandas in a future version. Use pandas.concat instead.\n",
            "  results_df = results_df.append({'Model': type(model).__name__,\n",
            "<ipython-input-27-e4fd8e2ebc6e>:79: FutureWarning: The frame.append method is deprecated and will be removed from pandas in a future version. Use pandas.concat instead.\n",
            "  results_df = results_df.append({'Model': type(model).__name__,\n",
            "<ipython-input-27-e4fd8e2ebc6e>:79: FutureWarning: The frame.append method is deprecated and will be removed from pandas in a future version. Use pandas.concat instead.\n",
            "  results_df = results_df.append({'Model': type(model).__name__,\n"
          ]
        },
        {
          "output_type": "stream",
          "name": "stdout",
          "text": [
            "0:\tlearn: 1014.0525843\ttotal: 11ms\tremaining: 11s\n",
            "100:\tlearn: 655.3844127\ttotal: 1.01s\tremaining: 9.02s\n",
            "200:\tlearn: 567.9251489\ttotal: 2.04s\tremaining: 8.11s\n",
            "300:\tlearn: 516.8454008\ttotal: 3.06s\tremaining: 7.12s\n",
            "400:\tlearn: 473.9163468\ttotal: 4.1s\tremaining: 6.13s\n",
            "500:\tlearn: 441.7976106\ttotal: 5.12s\tremaining: 5.1s\n",
            "600:\tlearn: 413.3656886\ttotal: 6.17s\tremaining: 4.1s\n",
            "700:\tlearn: 387.6542399\ttotal: 7.23s\tremaining: 3.08s\n",
            "800:\tlearn: 366.7597201\ttotal: 8.27s\tremaining: 2.06s\n",
            "900:\tlearn: 345.5297540\ttotal: 10.2s\tremaining: 1.12s\n",
            "999:\tlearn: 323.5407586\ttotal: 12.4s\tremaining: 0us\n",
            "                       Model           MSE  R2_Score\n",
            "0           LinearRegression  7.416869e+05  0.323632\n",
            "1                      Ridge  7.418398e+05  0.323493\n",
            "2                      Lasso  7.426018e+05  0.322798\n",
            "3        KNeighborsRegressor  8.190078e+05  0.253121\n",
            "4      DecisionTreeRegressor  7.787526e+05  0.289831\n",
            "5      RandomForestRegressor  5.234207e+05  0.522676\n",
            "6  GradientBoostingRegressor  5.088869e+05  0.535930\n",
            "7               XGBRegressor  4.401844e+05  0.598582\n",
            "8                        SVR  1.066993e+06  0.026975\n",
            "9          CatBoostRegressor  4.360473e+05  0.602355\n"
          ]
        },
        {
          "output_type": "stream",
          "name": "stderr",
          "text": [
            "<ipython-input-27-e4fd8e2ebc6e>:79: FutureWarning: The frame.append method is deprecated and will be removed from pandas in a future version. Use pandas.concat instead.\n",
            "  results_df = results_df.append({'Model': type(model).__name__,\n"
          ]
        }
      ]
    },
    {
      "cell_type": "markdown",
      "source": [
        "### 8000 samples"
      ],
      "metadata": {
        "id": "HGgUr8CLP5pm"
      }
    },
    {
      "cell_type": "code",
      "source": [
        "df_8000 = df2.sample(8000)"
      ],
      "metadata": {
        "id": "nyeG_BHEPxh2"
      },
      "execution_count": 41,
      "outputs": []
    },
    {
      "cell_type": "code",
      "source": [
        "training(df_8000)"
      ],
      "metadata": {
        "colab": {
          "base_uri": "https://localhost:8080/"
        },
        "id": "LTiLm7YDPxh2",
        "outputId": "2e04952f-e40e-468c-c72c-a4228329db79"
      },
      "execution_count": 42,
      "outputs": [
        {
          "output_type": "stream",
          "name": "stderr",
          "text": [
            "<ipython-input-27-e4fd8e2ebc6e>:55: FutureWarning: The frame.append method is deprecated and will be removed from pandas in a future version. Use pandas.concat instead.\n",
            "  results_df = results_df.append({'Model': type(model).__name__,\n",
            "<ipython-input-27-e4fd8e2ebc6e>:55: FutureWarning: The frame.append method is deprecated and will be removed from pandas in a future version. Use pandas.concat instead.\n",
            "  results_df = results_df.append({'Model': type(model).__name__,\n",
            "<ipython-input-27-e4fd8e2ebc6e>:55: FutureWarning: The frame.append method is deprecated and will be removed from pandas in a future version. Use pandas.concat instead.\n",
            "  results_df = results_df.append({'Model': type(model).__name__,\n",
            "<ipython-input-27-e4fd8e2ebc6e>:55: FutureWarning: The frame.append method is deprecated and will be removed from pandas in a future version. Use pandas.concat instead.\n",
            "  results_df = results_df.append({'Model': type(model).__name__,\n",
            "<ipython-input-27-e4fd8e2ebc6e>:79: FutureWarning: The frame.append method is deprecated and will be removed from pandas in a future version. Use pandas.concat instead.\n",
            "  results_df = results_df.append({'Model': type(model).__name__,\n",
            "<ipython-input-27-e4fd8e2ebc6e>:79: FutureWarning: The frame.append method is deprecated and will be removed from pandas in a future version. Use pandas.concat instead.\n",
            "  results_df = results_df.append({'Model': type(model).__name__,\n",
            "<ipython-input-27-e4fd8e2ebc6e>:79: FutureWarning: The frame.append method is deprecated and will be removed from pandas in a future version. Use pandas.concat instead.\n",
            "  results_df = results_df.append({'Model': type(model).__name__,\n",
            "<ipython-input-27-e4fd8e2ebc6e>:79: FutureWarning: The frame.append method is deprecated and will be removed from pandas in a future version. Use pandas.concat instead.\n",
            "  results_df = results_df.append({'Model': type(model).__name__,\n",
            "<ipython-input-27-e4fd8e2ebc6e>:79: FutureWarning: The frame.append method is deprecated and will be removed from pandas in a future version. Use pandas.concat instead.\n",
            "  results_df = results_df.append({'Model': type(model).__name__,\n"
          ]
        },
        {
          "output_type": "stream",
          "name": "stdout",
          "text": [
            "0:\tlearn: 1012.7150076\ttotal: 15.4ms\tremaining: 15.4s\n",
            "100:\tlearn: 654.8102463\ttotal: 1.32s\tremaining: 11.8s\n",
            "200:\tlearn: 584.2190583\ttotal: 2.66s\tremaining: 10.6s\n",
            "300:\tlearn: 542.2594004\ttotal: 3.98s\tremaining: 9.24s\n",
            "400:\tlearn: 514.1089060\ttotal: 5.36s\tremaining: 8s\n",
            "500:\tlearn: 484.5832452\ttotal: 8.15s\tremaining: 8.12s\n",
            "600:\tlearn: 461.2790499\ttotal: 10.8s\tremaining: 7.2s\n",
            "700:\tlearn: 439.1786968\ttotal: 12.2s\tremaining: 5.2s\n",
            "800:\tlearn: 421.0182732\ttotal: 13.6s\tremaining: 3.37s\n",
            "900:\tlearn: 405.6960019\ttotal: 14.9s\tremaining: 1.64s\n",
            "999:\tlearn: 389.1685654\ttotal: 16.2s\tremaining: 0us\n",
            "                       Model            MSE  R2_Score\n",
            "0           LinearRegression  702656.306855  0.340453\n",
            "1                      Ridge  702685.675899  0.340425\n",
            "2                      Lasso  703387.819323  0.339766\n",
            "3        KNeighborsRegressor  755787.792379  0.290581\n",
            "4      DecisionTreeRegressor  749465.939165  0.296515\n",
            "5      RandomForestRegressor  487597.820999  0.542317\n",
            "6  GradientBoostingRegressor  483846.610072  0.545838\n",
            "7               XGBRegressor  396601.620595  0.627731\n",
            "8                        SVR  989343.152215  0.071355\n",
            "9          CatBoostRegressor  383511.272374  0.640018\n"
          ]
        },
        {
          "output_type": "stream",
          "name": "stderr",
          "text": [
            "<ipython-input-27-e4fd8e2ebc6e>:79: FutureWarning: The frame.append method is deprecated and will be removed from pandas in a future version. Use pandas.concat instead.\n",
            "  results_df = results_df.append({'Model': type(model).__name__,\n"
          ]
        }
      ]
    }
  ],
  "metadata": {
    "colab": {
      "provenance": [],
      "toc_visible": true
    },
    "kernelspec": {
      "display_name": "Python 3",
      "name": "python3"
    },
    "language_info": {
      "name": "python"
    }
  },
  "nbformat": 4,
  "nbformat_minor": 0
}
